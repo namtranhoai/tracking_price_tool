{
 "cells": [
  {
   "cell_type": "code",
   "execution_count": 1,
   "id": "8fa4b6ef-0acb-4798-989b-43b8845e82dd",
   "metadata": {},
   "outputs": [],
   "source": [
    "import numpy as np\n",
    "import pandas as pd\n",
    "import matplotlib.pyplot as plt\n",
    "import itertools\n",
    "\n",
    "import statsmodels.api as sm\n",
    "# % matplotlib inline\n",
    "\n"
   ]
  },
  {
   "cell_type": "markdown",
   "id": "a0bf0a52-cc44-44ba-8420-e5592548bc8f",
   "metadata": {},
   "source": [
    "# Read csv data file"
   ]
  },
  {
   "cell_type": "code",
   "execution_count": 2,
   "id": "38eaf546-478a-44c2-84fb-306963993cda",
   "metadata": {},
   "outputs": [],
   "source": [
    "df= pd.read_csv('./tracking_michel.csv')"
   ]
  },
  {
   "cell_type": "code",
   "execution_count": 3,
   "id": "cb78b8ba-0997-44ab-80a4-5a4a7535d329",
   "metadata": {},
   "outputs": [
    {
     "data": {
      "text/html": [
       "<div>\n",
       "<style scoped>\n",
       "    .dataframe tbody tr th:only-of-type {\n",
       "        vertical-align: middle;\n",
       "    }\n",
       "\n",
       "    .dataframe tbody tr th {\n",
       "        vertical-align: top;\n",
       "    }\n",
       "\n",
       "    .dataframe thead th {\n",
       "        text-align: right;\n",
       "    }\n",
       "</style>\n",
       "<table border=\"1\" class=\"dataframe\">\n",
       "  <thead>\n",
       "    <tr style=\"text-align: right;\">\n",
       "      <th></th>\n",
       "      <th>product</th>\n",
       "      <th>company_product_id</th>\n",
       "      <th>store_id</th>\n",
       "      <th>is_onsale</th>\n",
       "      <th>regular_price_ea</th>\n",
       "      <th>current_price_ea</th>\n",
       "      <th>edited_at</th>\n",
       "      <th>product_id</th>\n",
       "      <th>company_id</th>\n",
       "    </tr>\n",
       "  </thead>\n",
       "  <tbody>\n",
       "    <tr>\n",
       "      <th>0</th>\n",
       "      <td>Apples - 3lb bag or individual</td>\n",
       "      <td>42305048</td>\n",
       "      <td>1499</td>\n",
       "      <td>0</td>\n",
       "      <td>0</td>\n",
       "      <td>1.38</td>\n",
       "      <td>2021-11-25</td>\n",
       "      <td>55107512</td>\n",
       "      <td>5</td>\n",
       "    </tr>\n",
       "    <tr>\n",
       "      <th>1</th>\n",
       "      <td>Apples - 3lb bag or individual</td>\n",
       "      <td>42305048</td>\n",
       "      <td>1499</td>\n",
       "      <td>0</td>\n",
       "      <td>0</td>\n",
       "      <td>1.38</td>\n",
       "      <td>2021-12-02</td>\n",
       "      <td>55107512</td>\n",
       "      <td>5</td>\n",
       "    </tr>\n",
       "    <tr>\n",
       "      <th>2</th>\n",
       "      <td>Apples - 3lb bag or individual</td>\n",
       "      <td>42305048</td>\n",
       "      <td>1499</td>\n",
       "      <td>0</td>\n",
       "      <td>0</td>\n",
       "      <td>1.38</td>\n",
       "      <td>2021-12-30</td>\n",
       "      <td>55107512</td>\n",
       "      <td>5</td>\n",
       "    </tr>\n",
       "    <tr>\n",
       "      <th>3</th>\n",
       "      <td>Apples - 3lb bag or individual</td>\n",
       "      <td>42305048</td>\n",
       "      <td>1499</td>\n",
       "      <td>0</td>\n",
       "      <td>0</td>\n",
       "      <td>1.38</td>\n",
       "      <td>2021-11-18</td>\n",
       "      <td>55107512</td>\n",
       "      <td>5</td>\n",
       "    </tr>\n",
       "    <tr>\n",
       "      <th>4</th>\n",
       "      <td>Apples - 3lb bag or individual</td>\n",
       "      <td>42305048</td>\n",
       "      <td>1499</td>\n",
       "      <td>0</td>\n",
       "      <td>0</td>\n",
       "      <td>1.38</td>\n",
       "      <td>2021-08-12</td>\n",
       "      <td>55107512</td>\n",
       "      <td>5</td>\n",
       "    </tr>\n",
       "  </tbody>\n",
       "</table>\n",
       "</div>"
      ],
      "text/plain": [
       "                          product  company_product_id  store_id  is_onsale  \\\n",
       "0  Apples - 3lb bag or individual            42305048      1499          0   \n",
       "1  Apples - 3lb bag or individual            42305048      1499          0   \n",
       "2  Apples - 3lb bag or individual            42305048      1499          0   \n",
       "3  Apples - 3lb bag or individual            42305048      1499          0   \n",
       "4  Apples - 3lb bag or individual            42305048      1499          0   \n",
       "\n",
       "   regular_price_ea  current_price_ea   edited_at  product_id  company_id  \n",
       "0                 0              1.38  2021-11-25    55107512           5  \n",
       "1                 0              1.38  2021-12-02    55107512           5  \n",
       "2                 0              1.38  2021-12-30    55107512           5  \n",
       "3                 0              1.38  2021-11-18    55107512           5  \n",
       "4                 0              1.38  2021-08-12    55107512           5  "
      ]
     },
     "execution_count": 3,
     "metadata": {},
     "output_type": "execute_result"
    }
   ],
   "source": [
    "df.head()"
   ]
  },
  {
   "cell_type": "markdown",
   "id": "998247be-8e5d-4e89-b18f-0b0a2d92328c",
   "metadata": {},
   "source": [
    "# Create column current_price base on regular_price_ea and current_price_ea"
   ]
  },
  {
   "cell_type": "code",
   "execution_count": 4,
   "id": "d76c1099-75d1-473f-9288-08935d2d0916",
   "metadata": {},
   "outputs": [],
   "source": [
    "df['current_price'] = df.apply(\n",
    "    lambda row: row['regular_price_ea']if row['regular_price_ea']>0 else row['current_price_ea'], axis=1)"
   ]
  },
  {
   "cell_type": "markdown",
   "id": "8aeabb18-fa61-4e5e-88cf-0d6666a17b39",
   "metadata": {},
   "source": [
    "# Group by Product and edited_at (collected_date)"
   ]
  },
  {
   "cell_type": "code",
   "execution_count": 5,
   "id": "1e8dbde3-b2e5-4c13-ac25-fd214d66e653",
   "metadata": {},
   "outputs": [],
   "source": [
    "group_by_df1 = df.groupby(['product','edited_at']).mean()"
   ]
  },
  {
   "cell_type": "code",
   "execution_count": 6,
   "id": "91803cc9-9a14-4dca-8703-0b7f24cbfb11",
   "metadata": {},
   "outputs": [
    {
     "data": {
      "text/html": [
       "<div>\n",
       "<style scoped>\n",
       "    .dataframe tbody tr th:only-of-type {\n",
       "        vertical-align: middle;\n",
       "    }\n",
       "\n",
       "    .dataframe tbody tr th {\n",
       "        vertical-align: top;\n",
       "    }\n",
       "\n",
       "    .dataframe thead th {\n",
       "        text-align: right;\n",
       "    }\n",
       "</style>\n",
       "<table border=\"1\" class=\"dataframe\">\n",
       "  <thead>\n",
       "    <tr style=\"text-align: right;\">\n",
       "      <th></th>\n",
       "      <th></th>\n",
       "      <th>company_product_id</th>\n",
       "      <th>store_id</th>\n",
       "      <th>is_onsale</th>\n",
       "      <th>regular_price_ea</th>\n",
       "      <th>current_price_ea</th>\n",
       "      <th>product_id</th>\n",
       "      <th>company_id</th>\n",
       "      <th>current_price</th>\n",
       "    </tr>\n",
       "    <tr>\n",
       "      <th>product</th>\n",
       "      <th>edited_at</th>\n",
       "      <th></th>\n",
       "      <th></th>\n",
       "      <th></th>\n",
       "      <th></th>\n",
       "      <th></th>\n",
       "      <th></th>\n",
       "      <th></th>\n",
       "      <th></th>\n",
       "    </tr>\n",
       "  </thead>\n",
       "  <tbody>\n",
       "    <tr>\n",
       "      <th rowspan=\"5\" valign=\"top\">Apples - 3lb bag or individual</th>\n",
       "      <th>2020-11-12</th>\n",
       "      <td>42305048.0</td>\n",
       "      <td>1499.0</td>\n",
       "      <td>0.0</td>\n",
       "      <td>0.0</td>\n",
       "      <td>1.15</td>\n",
       "      <td>55107512.0</td>\n",
       "      <td>5.0</td>\n",
       "      <td>1.15</td>\n",
       "    </tr>\n",
       "    <tr>\n",
       "      <th>2020-11-19</th>\n",
       "      <td>42305048.0</td>\n",
       "      <td>1499.0</td>\n",
       "      <td>0.0</td>\n",
       "      <td>0.0</td>\n",
       "      <td>1.15</td>\n",
       "      <td>55107512.0</td>\n",
       "      <td>5.0</td>\n",
       "      <td>1.15</td>\n",
       "    </tr>\n",
       "    <tr>\n",
       "      <th>2020-11-26</th>\n",
       "      <td>42305048.0</td>\n",
       "      <td>1499.0</td>\n",
       "      <td>0.0</td>\n",
       "      <td>0.0</td>\n",
       "      <td>1.15</td>\n",
       "      <td>55107512.0</td>\n",
       "      <td>5.0</td>\n",
       "      <td>1.15</td>\n",
       "    </tr>\n",
       "    <tr>\n",
       "      <th>2020-12-03</th>\n",
       "      <td>42305048.0</td>\n",
       "      <td>1499.0</td>\n",
       "      <td>0.0</td>\n",
       "      <td>0.0</td>\n",
       "      <td>1.15</td>\n",
       "      <td>55107512.0</td>\n",
       "      <td>5.0</td>\n",
       "      <td>1.15</td>\n",
       "    </tr>\n",
       "    <tr>\n",
       "      <th>2020-12-10</th>\n",
       "      <td>42305048.0</td>\n",
       "      <td>1499.0</td>\n",
       "      <td>0.0</td>\n",
       "      <td>0.0</td>\n",
       "      <td>1.15</td>\n",
       "      <td>55107512.0</td>\n",
       "      <td>5.0</td>\n",
       "      <td>1.15</td>\n",
       "    </tr>\n",
       "  </tbody>\n",
       "</table>\n",
       "</div>"
      ],
      "text/plain": [
       "                                           company_product_id  store_id  \\\n",
       "product                        edited_at                                  \n",
       "Apples - 3lb bag or individual 2020-11-12          42305048.0    1499.0   \n",
       "                               2020-11-19          42305048.0    1499.0   \n",
       "                               2020-11-26          42305048.0    1499.0   \n",
       "                               2020-12-03          42305048.0    1499.0   \n",
       "                               2020-12-10          42305048.0    1499.0   \n",
       "\n",
       "                                           is_onsale  regular_price_ea  \\\n",
       "product                        edited_at                                 \n",
       "Apples - 3lb bag or individual 2020-11-12        0.0               0.0   \n",
       "                               2020-11-19        0.0               0.0   \n",
       "                               2020-11-26        0.0               0.0   \n",
       "                               2020-12-03        0.0               0.0   \n",
       "                               2020-12-10        0.0               0.0   \n",
       "\n",
       "                                           current_price_ea  product_id  \\\n",
       "product                        edited_at                                  \n",
       "Apples - 3lb bag or individual 2020-11-12              1.15  55107512.0   \n",
       "                               2020-11-19              1.15  55107512.0   \n",
       "                               2020-11-26              1.15  55107512.0   \n",
       "                               2020-12-03              1.15  55107512.0   \n",
       "                               2020-12-10              1.15  55107512.0   \n",
       "\n",
       "                                           company_id  current_price  \n",
       "product                        edited_at                              \n",
       "Apples - 3lb bag or individual 2020-11-12         5.0           1.15  \n",
       "                               2020-11-19         5.0           1.15  \n",
       "                               2020-11-26         5.0           1.15  \n",
       "                               2020-12-03         5.0           1.15  \n",
       "                               2020-12-10         5.0           1.15  "
      ]
     },
     "execution_count": 6,
     "metadata": {},
     "output_type": "execute_result"
    }
   ],
   "source": [
    "group_by_df1.head()"
   ]
  },
  {
   "cell_type": "markdown",
   "id": "a778ceb2-3a15-4735-88f9-18149ae6e23c",
   "metadata": {},
   "source": [
    "# Pivot table by edited_at (Collected_date)"
   ]
  },
  {
   "cell_type": "code",
   "execution_count": 7,
   "id": "d5b544a9-674d-49e7-9fed-2753db695b4a",
   "metadata": {},
   "outputs": [],
   "source": [
    "pv = pd.pivot_table(group_by_df1,index=[\"edited_at\"],\n",
    "               values=[\"current_price\"],\n",
    "               aggfunc='mean',fill_value=np.nan,\n",
    "               columns=[\"product\"]\n",
    "                      )"
   ]
  },
  {
   "cell_type": "code",
   "execution_count": 8,
   "id": "d6c3d9d7-fc59-47ef-b963-7fb9bd10c96e",
   "metadata": {},
   "outputs": [
    {
     "data": {
      "text/html": [
       "<div>\n",
       "<style scoped>\n",
       "    .dataframe tbody tr th:only-of-type {\n",
       "        vertical-align: middle;\n",
       "    }\n",
       "\n",
       "    .dataframe tbody tr th {\n",
       "        vertical-align: top;\n",
       "    }\n",
       "\n",
       "    .dataframe thead tr th {\n",
       "        text-align: left;\n",
       "    }\n",
       "\n",
       "    .dataframe thead tr:last-of-type th {\n",
       "        text-align: right;\n",
       "    }\n",
       "</style>\n",
       "<table border=\"1\" class=\"dataframe\">\n",
       "  <thead>\n",
       "    <tr>\n",
       "      <th></th>\n",
       "      <th colspan=\"6\" halign=\"left\">current_price</th>\n",
       "    </tr>\n",
       "    <tr>\n",
       "      <th>product</th>\n",
       "      <th>Apples - 3lb bag or individual</th>\n",
       "      <th>Carrots</th>\n",
       "      <th>Cauliflower</th>\n",
       "      <th>Grape tomatoes</th>\n",
       "      <th>Lettuce (leaf)</th>\n",
       "      <th>Oranges - bagged or individual</th>\n",
       "    </tr>\n",
       "    <tr>\n",
       "      <th>edited_at</th>\n",
       "      <th></th>\n",
       "      <th></th>\n",
       "      <th></th>\n",
       "      <th></th>\n",
       "      <th></th>\n",
       "      <th></th>\n",
       "    </tr>\n",
       "  </thead>\n",
       "  <tbody>\n",
       "    <tr>\n",
       "      <th>2020-11-12</th>\n",
       "      <td>1.15</td>\n",
       "      <td>2.00</td>\n",
       "      <td>NaN</td>\n",
       "      <td>7.99</td>\n",
       "      <td>3.69</td>\n",
       "      <td>5.00</td>\n",
       "    </tr>\n",
       "    <tr>\n",
       "      <th>2020-11-19</th>\n",
       "      <td>1.15</td>\n",
       "      <td>2.00</td>\n",
       "      <td>4.99</td>\n",
       "      <td>7.99</td>\n",
       "      <td>3.69</td>\n",
       "      <td>5.00</td>\n",
       "    </tr>\n",
       "    <tr>\n",
       "      <th>2020-11-26</th>\n",
       "      <td>1.15</td>\n",
       "      <td>2.49</td>\n",
       "      <td>4.99</td>\n",
       "      <td>7.99</td>\n",
       "      <td>3.69</td>\n",
       "      <td>5.00</td>\n",
       "    </tr>\n",
       "    <tr>\n",
       "      <th>2020-12-03</th>\n",
       "      <td>1.15</td>\n",
       "      <td>2.00</td>\n",
       "      <td>5.99</td>\n",
       "      <td>7.99</td>\n",
       "      <td>3.69</td>\n",
       "      <td>5.00</td>\n",
       "    </tr>\n",
       "    <tr>\n",
       "      <th>2020-12-10</th>\n",
       "      <td>1.15</td>\n",
       "      <td>2.99</td>\n",
       "      <td>5.99</td>\n",
       "      <td>7.99</td>\n",
       "      <td>NaN</td>\n",
       "      <td>4.99</td>\n",
       "    </tr>\n",
       "  </tbody>\n",
       "</table>\n",
       "</div>"
      ],
      "text/plain": [
       "                            current_price                                     \\\n",
       "product    Apples - 3lb bag or individual Carrots Cauliflower Grape tomatoes   \n",
       "edited_at                                                                      \n",
       "2020-11-12                           1.15    2.00         NaN           7.99   \n",
       "2020-11-19                           1.15    2.00        4.99           7.99   \n",
       "2020-11-26                           1.15    2.49        4.99           7.99   \n",
       "2020-12-03                           1.15    2.00        5.99           7.99   \n",
       "2020-12-10                           1.15    2.99        5.99           7.99   \n",
       "\n",
       "                                                          \n",
       "product    Lettuce (leaf) Oranges - bagged or individual  \n",
       "edited_at                                                 \n",
       "2020-11-12           3.69                           5.00  \n",
       "2020-11-19           3.69                           5.00  \n",
       "2020-11-26           3.69                           5.00  \n",
       "2020-12-03           3.69                           5.00  \n",
       "2020-12-10            NaN                           4.99  "
      ]
     },
     "execution_count": 8,
     "metadata": {},
     "output_type": "execute_result"
    }
   ],
   "source": [
    "pv.head()"
   ]
  },
  {
   "cell_type": "markdown",
   "id": "0bae8df3-f2b9-40f3-abdc-93ba0ed72b92",
   "metadata": {},
   "source": [
    "# Fix Current Price missing value by BFILL"
   ]
  },
  {
   "cell_type": "code",
   "execution_count": 9,
   "id": "72df232d-7305-48fa-b363-f3e78b6b1602",
   "metadata": {},
   "outputs": [
    {
     "data": {
      "text/html": [
       "<div>\n",
       "<style scoped>\n",
       "    .dataframe tbody tr th:only-of-type {\n",
       "        vertical-align: middle;\n",
       "    }\n",
       "\n",
       "    .dataframe tbody tr th {\n",
       "        vertical-align: top;\n",
       "    }\n",
       "\n",
       "    .dataframe thead tr th {\n",
       "        text-align: left;\n",
       "    }\n",
       "</style>\n",
       "<table border=\"1\" class=\"dataframe\">\n",
       "  <thead>\n",
       "    <tr>\n",
       "      <th></th>\n",
       "      <th>edited_at</th>\n",
       "      <th colspan=\"6\" halign=\"left\">current_price</th>\n",
       "    </tr>\n",
       "    <tr>\n",
       "      <th>product</th>\n",
       "      <th></th>\n",
       "      <th>Apples - 3lb bag or individual</th>\n",
       "      <th>Carrots</th>\n",
       "      <th>Cauliflower</th>\n",
       "      <th>Grape tomatoes</th>\n",
       "      <th>Lettuce (leaf)</th>\n",
       "      <th>Oranges - bagged or individual</th>\n",
       "    </tr>\n",
       "  </thead>\n",
       "  <tbody>\n",
       "    <tr>\n",
       "      <th>49</th>\n",
       "      <td>2021-11-11</td>\n",
       "      <td>1.38</td>\n",
       "      <td>2.49</td>\n",
       "      <td>5.49</td>\n",
       "      <td>8.99</td>\n",
       "      <td>2.69</td>\n",
       "      <td>4.99</td>\n",
       "    </tr>\n",
       "    <tr>\n",
       "      <th>50</th>\n",
       "      <td>2021-11-18</td>\n",
       "      <td>1.38</td>\n",
       "      <td>2.49</td>\n",
       "      <td>4.99</td>\n",
       "      <td>8.99</td>\n",
       "      <td>2.99</td>\n",
       "      <td>4.99</td>\n",
       "    </tr>\n",
       "    <tr>\n",
       "      <th>51</th>\n",
       "      <td>2021-11-25</td>\n",
       "      <td>1.38</td>\n",
       "      <td>2.49</td>\n",
       "      <td>5.49</td>\n",
       "      <td>8.99</td>\n",
       "      <td>3.49</td>\n",
       "      <td>4.00</td>\n",
       "    </tr>\n",
       "    <tr>\n",
       "      <th>52</th>\n",
       "      <td>2021-12-02</td>\n",
       "      <td>1.38</td>\n",
       "      <td>2.49</td>\n",
       "      <td>4.99</td>\n",
       "      <td>8.99</td>\n",
       "      <td>3.49</td>\n",
       "      <td>4.99</td>\n",
       "    </tr>\n",
       "    <tr>\n",
       "      <th>53</th>\n",
       "      <td>2021-12-30</td>\n",
       "      <td>1.38</td>\n",
       "      <td>2.49</td>\n",
       "      <td>4.99</td>\n",
       "      <td>6.00</td>\n",
       "      <td>2.99</td>\n",
       "      <td>4.99</td>\n",
       "    </tr>\n",
       "  </tbody>\n",
       "</table>\n",
       "</div>"
      ],
      "text/plain": [
       "          edited_at                  current_price                      \\\n",
       "product             Apples - 3lb bag or individual Carrots Cauliflower   \n",
       "49       2021-11-11                           1.38    2.49        5.49   \n",
       "50       2021-11-18                           1.38    2.49        4.99   \n",
       "51       2021-11-25                           1.38    2.49        5.49   \n",
       "52       2021-12-02                           1.38    2.49        4.99   \n",
       "53       2021-12-30                           1.38    2.49        4.99   \n",
       "\n",
       "                                                                      \n",
       "product Grape tomatoes Lettuce (leaf) Oranges - bagged or individual  \n",
       "49                8.99           2.69                           4.99  \n",
       "50                8.99           2.99                           4.99  \n",
       "51                8.99           3.49                           4.00  \n",
       "52                8.99           3.49                           4.99  \n",
       "53                6.00           2.99                           4.99  "
      ]
     },
     "execution_count": 9,
     "metadata": {},
     "output_type": "execute_result"
    }
   ],
   "source": [
    "result = pv.bfill(axis='rows')\n",
    "result.reset_index(inplace=True)\n",
    "result.tail()"
   ]
  },
  {
   "cell_type": "code",
   "execution_count": 10,
   "id": "184f8ced-371a-4380-a618-50fa2cc790a2",
   "metadata": {},
   "outputs": [
    {
     "data": {
      "text/plain": [
       "MultiIndex([(    'edited_at',                               ''),\n",
       "            ('current_price', 'Apples - 3lb bag or individual'),\n",
       "            ('current_price',                        'Carrots'),\n",
       "            ('current_price',                    'Cauliflower'),\n",
       "            ('current_price',                 'Grape tomatoes'),\n",
       "            ('current_price',                 'Lettuce (leaf)'),\n",
       "            ('current_price', 'Oranges - bagged or individual')],\n",
       "           names=[None, 'product'])"
      ]
     },
     "execution_count": 10,
     "metadata": {},
     "output_type": "execute_result"
    }
   ],
   "source": [
    "result.columns"
   ]
  },
  {
   "cell_type": "code",
   "execution_count": 11,
   "id": "9320ba63-81d4-4992-832c-7307d228bc7b",
   "metadata": {},
   "outputs": [
    {
     "data": {
      "text/plain": [
       "Index(['Collected_Date', 'Apples', 'Carrots', 'Cauliflower', 'Tomatoes',\n",
       "       'Lettuce', 'Oranges'],\n",
       "      dtype='object')"
      ]
     },
     "execution_count": 11,
     "metadata": {},
     "output_type": "execute_result"
    }
   ],
   "source": [
    "#rename columns\n",
    "result.columns = ['Collected_Date','Apples','Carrots','Cauliflower','Tomatoes','Lettuce','Oranges']\n",
    "result.columns"
   ]
  },
  {
   "cell_type": "markdown",
   "id": "cae6d90f-1c64-4112-a7b6-f605401cef2d",
   "metadata": {},
   "source": [
    "# Convert Collected_Date to Datetime"
   ]
  },
  {
   "cell_type": "code",
   "execution_count": 12,
   "id": "70b03c8c-afa0-4780-b778-f28096d0b873",
   "metadata": {},
   "outputs": [],
   "source": [
    "result['Collected_Date'] =  pd.to_datetime(result['Collected_Date'])"
   ]
  },
  {
   "cell_type": "markdown",
   "id": "59291f86-459c-4dc1-97d4-8f6efbfd7977",
   "metadata": {},
   "source": [
    "# Index time-serial data"
   ]
  },
  {
   "cell_type": "code",
   "execution_count": 13,
   "id": "bb919c35-178b-4c4c-bed2-c5112b24e379",
   "metadata": {},
   "outputs": [],
   "source": [
    "result = result.set_index('Collected_Date')"
   ]
  },
  {
   "cell_type": "code",
   "execution_count": null,
   "id": "b6ec1396-1275-47f0-b50a-ecde30081a5d",
   "metadata": {},
   "outputs": [],
   "source": []
  },
  {
   "cell_type": "markdown",
   "id": "30f3ebd4-39b9-405c-9fd8-81ed4cb1cb99",
   "metadata": {},
   "source": [
    "# Create a mean column"
   ]
  },
  {
   "cell_type": "code",
   "execution_count": 14,
   "id": "f626633e-a1d2-4d14-8618-eae79b782317",
   "metadata": {},
   "outputs": [],
   "source": [
    "result['Avg_Price'] = result[['Apples','Carrots','Cauliflower','Tomatoes','Lettuce','Oranges']].mean(axis=1) "
   ]
  },
  {
   "cell_type": "markdown",
   "id": "e468f463-a802-4ee2-b848-e926612e02a9",
   "metadata": {},
   "source": [
    "# Plot data"
   ]
  },
  {
   "cell_type": "code",
   "execution_count": 35,
   "id": "cce609f5-46d4-4de8-9f52-c11ae3572e39",
   "metadata": {},
   "outputs": [
    {
     "data": {
      "text/plain": [
       "<AxesSubplot:xlabel='Collected_Date'>"
      ]
     },
     "execution_count": 35,
     "metadata": {},
     "output_type": "execute_result"
    },
    {
     "data": {
      "image/png": "[encoded data removed]",
      "text/plain": [
       "<Figure size 1440x576 with 1 Axes>"
      ]
     },
     "metadata": {
      "needs_background": "light"
     },
     "output_type": "display_data"
    }
   ],
   "source": [
    "result.plot(figsize=(20, 8))"
   ]
  },
  {
   "cell_type": "markdown",
   "id": "b236f8b2-8065-4ad3-b9ac-db21deaaa97c",
   "metadata": {},
   "source": [
    "# Avg price data time-series visualization"
   ]
  },
  {
   "cell_type": "code",
   "execution_count": 43,
   "id": "d3701419-f184-4b95-a3e6-047edf59a209",
   "metadata": {},
   "outputs": [],
   "source": [
    "# Averaging Daily Sales\n",
    "avg_prices = result['Avg_Price'].resample('W').mean()"
   ]
  },
  {
   "cell_type": "code",
   "execution_count": 46,
   "id": "4175933c-930b-4266-8c57-09976efc2664",
   "metadata": {},
   "outputs": [],
   "source": [
    "avg_prices = avg_prices.bfill(axis='rows')"
   ]
  },
  {
   "cell_type": "code",
   "execution_count": 48,
   "id": "58e08242-0459-493e-bfea-d9fb43dc642f",
   "metadata": {},
   "outputs": [
    {
     "data": {
      "text/plain": [
       "<AxesSubplot:xlabel='Collected_Date'>"
      ]
     },
     "execution_count": 48,
     "metadata": {},
     "output_type": "execute_result"
    },
    {
     "data": {
      "image/png": "[encoded data removed]",
      "text/plain": [
       "<Figure size 1080x432 with 1 Axes>"
      ]
     },
     "metadata": {
      "needs_background": "light"
     },
     "output_type": "display_data"
    }
   ],
   "source": [
    "avg_prices.plot(figsize=(15, 6))"
   ]
  },
  {
   "cell_type": "code",
   "execution_count": 47,
   "id": "d46fcfc4-fcab-4a66-89b0-06897c7ce808",
   "metadata": {
    "collapsed": true,
    "jupyter": {
     "outputs_hidden": true
    },
    "tags": []
   },
   "outputs": [
    {
     "name": "stdout",
     "output_type": "stream",
     "text": [
      "Collected_Date\n",
      "2020-11-15    4.136667\n",
      "2020-11-22    4.136667\n",
      "2020-11-29    4.218333\n",
      "2020-12-06    4.303333\n",
      "2020-12-13    4.516667\n",
      "2020-12-20    4.266667\n",
      "2020-12-27    4.266667\n",
      "2021-01-03    4.266667\n",
      "2021-01-10    4.101667\n",
      "2021-01-17    3.770833\n",
      "2021-01-24    4.516667\n",
      "2021-01-31    4.516667\n",
      "2021-02-07    4.516667\n",
      "2021-02-14    4.185000\n",
      "2021-02-21    4.183333\n",
      "2021-02-28    4.183333\n",
      "2021-03-07    4.183333\n",
      "2021-03-14    4.018333\n",
      "2021-03-21    3.933333\n",
      "2021-03-28    3.766667\n",
      "2021-04-04    3.766667\n",
      "2021-04-11    3.768333\n",
      "2021-04-18    4.016667\n",
      "2021-04-25    3.850000\n",
      "2021-05-02    3.435000\n",
      "2021-05-09    3.685000\n",
      "2021-05-16    4.016667\n",
      "2021-05-23    3.850000\n",
      "2021-05-30    3.850000\n",
      "2021-06-06    4.016667\n",
      "2021-06-13    3.850000\n",
      "2021-06-20    3.685000\n",
      "2021-06-27    4.016667\n",
      "2021-07-04    4.016667\n",
      "2021-07-11    4.016667\n",
      "2021-07-18    4.016667\n",
      "2021-07-25    4.016667\n",
      "2021-08-01    4.055000\n",
      "2021-08-08    3.723333\n",
      "2021-08-15    3.806667\n",
      "2021-08-22    3.640000\n",
      "2021-08-29    3.721667\n",
      "2021-09-05    3.721667\n",
      "2021-09-12    3.723333\n",
      "2021-09-19    3.704167\n",
      "2021-09-26    3.704167\n",
      "2021-10-03    3.558333\n",
      "2021-10-10    3.640000\n",
      "2021-10-17    3.723333\n",
      "2021-10-24    3.921667\n",
      "2021-10-31    4.338333\n",
      "2021-11-07    4.338333\n",
      "2021-11-14    4.338333\n",
      "2021-11-21    4.305000\n",
      "2021-11-28    4.306667\n",
      "2021-12-05    4.388333\n",
      "2021-12-12    3.806667\n",
      "2021-12-19    3.806667\n",
      "2021-12-26    3.806667\n",
      "2022-01-02    3.806667\n",
      "Freq: W-SUN, Name: Avg_Price, dtype: float64\n"
     ]
    }
   ],
   "source": [
    "print(avg_prices)"
   ]
  },
  {
   "cell_type": "code",
   "execution_count": 23,
   "id": "bcd716af-a9f1-48b0-ac24-c4594b17a8e9",
   "metadata": {},
   "outputs": [],
   "source": []
  }
 ],
 "metadata": {
  "kernelspec": {
   "display_name": "Python 3 (ipykernel)",
   "language": "python",
   "name": "python3"
  },
  "language_info": {
   "codemirror_mode": {
    "name": "ipython",
    "version": 3
   },
   "file_extension": ".py",
   "mimetype": "text/x-python",
   "name": "python",
   "nbconvert_exporter": "python",
   "pygments_lexer": "ipython3",
   "version": "3.9.7"
  }
 },
 "nbformat": 4,
 "nbformat_minor": 5
}
